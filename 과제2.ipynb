{
 "cells": [
  {
   "cell_type": "code",
   "execution_count": 1,
   "metadata": {},
   "outputs": [
    {
     "name": "stdout",
     "output_type": "stream",
     "text": [
      "Retrieving notices: ...working... done\n",
      "Channels:\n",
      " - conda-forge\n",
      " - bioconda\n",
      " - defaults\n",
      "Platform: linux-64\n",
      "Collecting package metadata (repodata.json): done\n",
      "Solving environment: done\n",
      "\n",
      "## Package Plan ##\n",
      "\n",
      "  environment location: /root/conda\n",
      "\n",
      "  added / updated specs:\n",
      "    - bedtools\n",
      "    - bioawk\n",
      "    - samtools\n",
      "\n",
      "\n",
      "The following packages will be downloaded:\n",
      "\n",
      "    package                    |            build\n",
      "    ---------------------------|-----------------\n",
      "    bedtools-2.31.1            |       hf5e1c6e_1         1.5 MB  bioconda\n",
      "    bioawk-1.0                 |      he4a0461_10         198 KB  bioconda\n",
      "    htslib-1.20                |       h81da01d_0         2.9 MB  bioconda\n",
      "    libcurl-8.7.1              |       h251f7ec_0         424 KB\n",
      "    libdeflate-1.20            |       hd590300_0          70 KB  conda-forge\n",
      "    libstdcxx-ng-13.2.0        |       hc0a3c3a_7         3.7 MB  conda-forge\n",
      "    ncurses-6.5                |       h59595ed_0         867 KB  conda-forge\n",
      "    samtools-1.20              |       h50ea8bc_0         459 KB  bioconda\n",
      "    ------------------------------------------------------------\n",
      "                                           Total:        10.0 MB\n",
      "\n",
      "The following NEW packages will be INSTALLED:\n",
      "\n",
      "  bedtools           bioconda/linux-64::bedtools-2.31.1-hf5e1c6e_1 \n",
      "  bioawk             bioconda/linux-64::bioawk-1.0-he4a0461_10 \n",
      "  htslib             bioconda/linux-64::htslib-1.20-h81da01d_0 \n",
      "  libdeflate         conda-forge/linux-64::libdeflate-1.20-hd590300_0 \n",
      "  samtools           bioconda/linux-64::samtools-1.20-h50ea8bc_0 \n",
      "\n",
      "The following packages will be UPDATED:\n",
      "\n",
      "  conda              pkgs/main::conda-24.3.0-py312h06a4308~ --> conda-forge::conda-24.4.0-py312h7900ff3_0 \n",
      "  libcurl                                  8.5.0-h251f7ec_0 --> 8.7.1-h251f7ec_0 \n",
      "  libgcc-ng          pkgs/main::libgcc-ng-11.2.0-h1234567_1 --> conda-forge::libgcc-ng-13.2.0-h77fa898_7 \n",
      "  libgomp              pkgs/main::libgomp-11.2.0-h1234567_1 --> conda-forge::libgomp-13.2.0-h77fa898_7 \n",
      "  libstdcxx-ng       pkgs/main::libstdcxx-ng-11.2.0-h12345~ --> conda-forge::libstdcxx-ng-13.2.0-hc0a3c3a_7 \n",
      "  ncurses                 pkgs/main::ncurses-6.4-h6a678d5_0 --> conda-forge::ncurses-6.5-h59595ed_0 \n",
      "  openssl              pkgs/main::openssl-3.0.13-h7f8727e_0 --> conda-forge::openssl-3.3.0-hd590300_0 \n",
      "\n",
      "The following packages will be SUPERSEDED by a higher-priority channel:\n",
      "\n",
      "  _libgcc_mutex           pkgs/main::_libgcc_mutex-0.1-main --> conda-forge::_libgcc_mutex-0.1-conda_forge \n",
      "  _openmp_mutex          pkgs/main::_openmp_mutex-5.1-1_gnu --> conda-forge::_openmp_mutex-4.5-2_gnu \n",
      "  certifi            pkgs/main/linux-64::certifi-2024.2.2-~ --> conda-forge/noarch::certifi-2024.2.2-pyhd8ed1ab_0 \n",
      "\n",
      "\n",
      "\n",
      "Downloading and Extracting Packages:\n",
      "libstdcxx-ng-13.2.0  | 3.7 MB    |                                       |   0% \n",
      "htslib-1.20          | 2.9 MB    |                                       |   0% \u001b[A\n",
      "\n",
      "bedtools-2.31.1      | 1.5 MB    |                                       |   0% \u001b[A\u001b[A\n",
      "\n",
      "\n",
      "ncurses-6.5          | 867 KB    |                                       |   0% \u001b[A\u001b[A\u001b[A\n",
      "\n",
      "\n",
      "\n",
      "samtools-1.20        | 459 KB    |                                       |   0% \u001b[A\u001b[A\u001b[A\u001b[A\n",
      "\n",
      "\n",
      "\n",
      "\n",
      "libcurl-8.7.1        | 424 KB    |                                       |   0% \u001b[A\u001b[A\u001b[A\u001b[A\u001b[A\n",
      "\n",
      "\n",
      "\n",
      "\n",
      "\n",
      "bioawk-1.0           | 198 KB    |                                       |   0% \u001b[A\u001b[A\u001b[A\u001b[A\u001b[A\u001b[A\n",
      "\n",
      "\n",
      "\n",
      "\n",
      "\n",
      "\n",
      "libdeflate-1.20      | 70 KB     |                                       |   0% \u001b[A\u001b[A\u001b[A\u001b[A\u001b[A\u001b[A\u001b[A\n",
      "htslib-1.20          | 2.9 MB    | 1                                     |   1% \u001b[A\n",
      "\n",
      "bedtools-2.31.1      | 1.5 MB    | 3                                     |   1% \u001b[A\u001b[A\n",
      "htslib-1.20          | 2.9 MB    | ###9                                  |  11% \u001b[A\n",
      "\n",
      "libstdcxx-ng-13.2.0  | 3.7 MB    | 1                                     |   0% \u001b[A\u001b[A\n",
      "\n",
      "\n",
      "\n",
      "samtools-1.20        | 459 KB    | #2                                    |   3% \u001b[A\u001b[A\u001b[A\u001b[A\n",
      "htslib-1.20          | 2.9 MB    | ########5                             |  23% \u001b[A\n",
      "\n",
      "bedtools-2.31.1      | 1.5 MB    | ##################1                   |  49% \u001b[A\u001b[A\n",
      "\n",
      "\n",
      "libstdcxx-ng-13.2.0  | 3.7 MB    | 7                                     |   2% \u001b[A\u001b[A\u001b[A\n",
      "htslib-1.20          | 2.9 MB    | ###########9                          |  32% \u001b[A\n",
      "\n",
      "\n",
      "\n",
      "samtools-1.20        | 459 KB    | ##########3                           |  28% \u001b[A\u001b[A\u001b[A\u001b[A\n",
      "\n",
      "\n",
      "ncurses-6.5          | 867 KB    | ##                                    |   6% \u001b[A\u001b[A\u001b[A\n",
      "\n",
      "bedtools-2.31.1      | 1.5 MB    | ########################6             |  67% \u001b[A\u001b[A\n",
      "\n",
      "\n",
      "\n",
      "samtools-1.20        | 459 KB    | ##################                    |  49% \u001b[A\u001b[A\u001b[A\u001b[A\n",
      "htslib-1.20          | 2.9 MB    | ###############5                      |  42% \u001b[A\n",
      "\n",
      "bedtools-2.31.1      | 1.5 MB    | ###############################8      |  86% \u001b[A\u001b[A\n",
      "\n",
      "\n",
      "libstdcxx-ng-13.2.0  | 3.7 MB    | ##3                                   |   6% \u001b[A\u001b[A\u001b[A\n",
      "htslib-1.20          | 2.9 MB    | ######################9               |  62% \u001b[A\n",
      "\n",
      "\n",
      "\n",
      "\n",
      "\n",
      "bioawk-1.0           | 198 KB    | ##9                                   |   8% \u001b[A\u001b[A\u001b[A\u001b[A\u001b[A\u001b[A\n",
      "\n",
      "\n",
      "libstdcxx-ng-13.2.0  | 3.7 MB    | #######7                              |  21% \u001b[A\u001b[A\u001b[A\n",
      "\n",
      "\n",
      "\n",
      "\n",
      "libcurl-8.7.1        | 424 KB    | #3                                    |   4% \u001b[A\u001b[A\u001b[A\u001b[A\u001b[A\n",
      "\n",
      "\n",
      "\n",
      "samtools-1.20        | 459 KB    | ##################################### | 100% \u001b[A\u001b[A\u001b[A\u001b[A\n",
      "\n",
      "\n",
      "\n",
      "samtools-1.20        | 459 KB    | ##################################### | 100% \u001b[A\u001b[A\u001b[A\u001b[A\n",
      "htslib-1.20          | 2.9 MB    | ###########################5          |  75% \u001b[A\n",
      "\n",
      "\n",
      "ncurses-6.5          | 867 KB    | ############2                         |  33% \u001b[A\u001b[A\u001b[A\n",
      "\n",
      "\n",
      "\n",
      "\n",
      "libcurl-8.7.1        | 424 KB    | ######################3               |  60% \u001b[A\u001b[A\u001b[A\u001b[A\u001b[A\n",
      "\n",
      "bedtools-2.31.1      | 1.5 MB    | ##################################### | 100% \u001b[A\u001b[A\n",
      "\n",
      "\n",
      "\n",
      "\n",
      "\n",
      "libstdcxx-ng-13.2.0  | 3.7 MB    | ##########1                           |  27% \u001b[A\u001b[A\u001b[A\u001b[A\u001b[A\u001b[A\n",
      "htslib-1.20          | 2.9 MB    | ###############################7      |  86% \u001b[A\n",
      "\n",
      "\n",
      "\n",
      "\n",
      "libcurl-8.7.1        | 424 KB    | ##################################### | 100% \u001b[A\u001b[A\u001b[A\u001b[A\u001b[A\n",
      "\n",
      "\n",
      "\n",
      "\n",
      "\n",
      "bioawk-1.0           | 198 KB    | ##################################### | 100% \u001b[A\u001b[A\u001b[A\u001b[A\u001b[A\u001b[A\n",
      "\n",
      "\n",
      "libstdcxx-ng-13.2.0  | 3.7 MB    | ############6                         |  34% \u001b[A\u001b[A\u001b[A\n",
      "\n",
      "\n",
      "ncurses-6.5          | 867 KB    | ####################4                 |  55% \u001b[A\u001b[A\u001b[A\n",
      "htslib-1.20          | 2.9 MB    | ###################################9  |  97% \u001b[A\n",
      "\n",
      "\n",
      "\n",
      "\n",
      "\n",
      "\n",
      "libdeflate-1.20      | 70 KB     | ########4                             |  23% \u001b[A\u001b[A\u001b[A\u001b[A\u001b[A\u001b[A\u001b[A\n",
      "\n",
      "\n",
      "\n",
      "\n",
      "\n",
      "\n",
      "libstdcxx-ng-13.2.0  | 3.7 MB    | ###############                       |  41% \u001b[A\u001b[A\u001b[A\u001b[A\u001b[A\u001b[A\u001b[A\n",
      "\n",
      "\n",
      "libstdcxx-ng-13.2.0  | 3.7 MB    | #################                     |  46% \u001b[A\u001b[A\u001b[A\n",
      "htslib-1.20          | 2.9 MB    | ##################################### | 100% \u001b[A\n",
      "\n",
      "\n",
      "libstdcxx-ng-13.2.0  | 3.7 MB    | #########################5            |  69% \u001b[A\u001b[A\u001b[A\n",
      "\n",
      "\n",
      "ncurses-6.5          | 867 KB    | ##################################### | 100% \u001b[A\u001b[A\u001b[A\n",
      "\n",
      "\n",
      "                                                                                \u001b[A\u001b[A\u001b[A\n",
      "                                                                                \u001b[A\n",
      "\n",
      "                                                                                \u001b[A\u001b[A\n",
      "\n",
      "\n",
      "                                                                                \u001b[A\u001b[A\u001b[A\n",
      "\n",
      "\n",
      "\n",
      "                                                                                \u001b[A\u001b[A\u001b[A\u001b[A\n",
      "\n",
      "\n",
      "\n",
      "\n",
      "                                                                                \u001b[A\u001b[A\u001b[A\u001b[A\u001b[A\n",
      "\n",
      "\n",
      "\n",
      "\n",
      "\n",
      "                                                                                \u001b[A\u001b[A\u001b[A\u001b[A\u001b[A\u001b[A\n",
      "\n",
      "\n",
      "\n",
      "\n",
      "\n",
      "\n",
      "                                                                                \u001b[A\u001b[A\u001b[A\u001b[A\u001b[A\u001b[A\u001b[A\n",
      "Preparing transaction: done\n",
      "Verifying transaction: done\n",
      "Executing transaction: done\n"
     ]
    }
   ],
   "source": [
    "!conda install -y bedtools bioawk samtools"
   ]
  },
  {
   "cell_type": "code",
   "execution_count": 2,
   "metadata": {},
   "outputs": [
    {
     "name": "stdout",
     "output_type": "stream",
     "text": [
      "/mnt/c/Users/user/Desktop/과제/binfo1-work\n"
     ]
    },
    {
     "name": "stderr",
     "output_type": "stream",
     "text": [
      "/root/.local/lib/python3.10/site-packages/IPython/core/magics/osm.py:417: UserWarning: This is now an optional IPython functionality, setting dhist requires you to install the `pickleshare` library.\n",
      "  self.shell.db['dhist'] = compress_dhist(dhist)[-100:]\n"
     ]
    }
   ],
   "source": [
    "%cd /mnt/c/Users/user/Desktop/과제/binfo1-work"
   ]
  },
  {
   "cell_type": "code",
   "execution_count": 3,
   "metadata": {},
   "outputs": [
    {
     "name": "stdout",
     "output_type": "stream",
     "text": [
      "grep: ../binfo1-datapack1/gencode.gtf: No such file or directory\n"
     ]
    }
   ],
   "source": [
    "!grep '\tstart_codon\t.*\t+\t.*transcript_support_level \"1\"' ../binfo1-datapack1/gencode.gtf | \\\n",
    " sed -e 's/\t[^\t]*transcript_id \"\\([^\"]*\\)\".*$/\t\\1/g' > gencode-start.gtf\n",
    "!head gencode-start.gtf"
   ]
  },
  {
   "cell_type": "code",
   "execution_count": 4,
   "metadata": {},
   "outputs": [
    {
     "name": "stdout",
     "output_type": "stream",
     "text": [
      "grep: ../binfo1-datapack1/gencode.gtf: No such file or directory\n"
     ]
    }
   ],
   "source": [
    "!grep '\texon\t.*\t+\t' ../binfo1-datapack1/gencode.gtf | \\\n",
    " sed -e 's/\t[^\t]*transcript_id \"\\([^\"]*\\)\".*$/\t\\1/g' > gencode-plusexon.gtf\n",
    "!head gencode-plusexon.gtf"
   ]
  },
  {
   "cell_type": "code",
   "execution_count": 5,
   "metadata": {},
   "outputs": [],
   "source": [
    "!bedtools intersect -a gencode-start.gtf -b gencode-plusexon.gtf -wa -wb | \\\n",
    " awk -F'\t' -v OFS='\t' '$9 == $18 { print $10, $13-1, $14, $18, $4-1, $16; }' | \\\n",
    " sort -k1,1 -k2,3n -k4,4 > gencode-exons-containing-startcodon.bed\n",
    "!head gencode-exons-containing-startcodon.bed; tail gencode-exons-containing-startcodon.bed"
   ]
  },
  {
   "cell_type": "code",
   "execution_count": 6,
   "metadata": {},
   "outputs": [],
   "source": [
    "!(samtools view -H ../binfo1-datapack1/RPF-siLuc.bam; \\\n",
    "  samtools view -F20 ../binfo1-datapack1/RPF-siLuc.bam | \\\n",
    "  bioawk -c sam '{ if (length($seq) >= 25) print $0; }') | \\\n",
    " samtools view -b -o filtered-RPF-siLuc.bam"
   ]
  },
  {
   "cell_type": "code",
   "execution_count": 7,
   "metadata": {},
   "outputs": [
    {
     "name": "stdout",
     "output_type": "stream",
     "text": [
      "-rwxrwxrwx 1 root root 1055123479 May  6  2021 RPF-siLuc.bam\n",
      "-rwxrwxrwx 1 root root  554373659 May 10 10:46 filtered-RPF-siLuc.bam\n"
     ]
    }
   ],
   "source": [
    "!ls -al *RPF-siLuc.bam"
   ]
  },
  {
   "cell_type": "code",
   "execution_count": 8,
   "metadata": {},
   "outputs": [
    {
     "name": "stdout",
     "output_type": "stream",
     "text": [
      "chr1\t3176534\t3176535\t1\n",
      "chr1\t3196256\t3196257\t1\n",
      "chr1\t3221526\t3221527\t1\n",
      "chr1\t3221542\t3221543\t2\n",
      "chr1\t3221545\t3221546\t3\n",
      "chr1\t3221546\t3221547\t2\n",
      "chr1\t3221548\t3221550\t1\n",
      "chr1\t3221571\t3221572\t1\n",
      "chr1\t3221897\t3221898\t1\n",
      "chr1\t3221994\t3221995\t1\n"
     ]
    }
   ],
   "source": [
    "!bedtools genomecov -ibam filtered-RPF-siLuc.bam -bg -5 > fivepcounts-RPF-siLuc.bed\n",
    "!head fivepcounts-RPF-siLuc.bed"
   ]
  },
  {
   "cell_type": "code",
   "execution_count": 9,
   "metadata": {},
   "outputs": [],
   "source": [
    "!bedtools intersect -a fivepcounts-RPF-siLuc.bed -b gencode-exons-containing-startcodon.bed \\\n",
    " -wa -wb -nonamecheck > fivepcounts-filtered-RPF-siLuc.txt\n",
    "!head fivepcounts-filtered-RPF-siLuc.txt"
   ]
  },
  {
   "cell_type": "code",
   "execution_count": null,
   "metadata": {},
   "outputs": [],
   "source": []
  }
 ],
 "metadata": {
  "kernelspec": {
   "display_name": "Python 3",
   "language": "python",
   "name": "python3"
  },
  "language_info": {
   "codemirror_mode": {
    "name": "ipython",
    "version": 3
   },
   "file_extension": ".py",
   "mimetype": "text/x-python",
   "name": "python",
   "nbconvert_exporter": "python",
   "pygments_lexer": "ipython3",
   "version": "3.10.12"
  }
 },
 "nbformat": 4,
 "nbformat_minor": 2
}
