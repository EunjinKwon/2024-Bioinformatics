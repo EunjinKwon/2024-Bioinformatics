{
 "cells": [
  {
   "cell_type": "code",
   "execution_count": 1,
   "metadata": {},
   "outputs": [
    {
     "name": "stdout",
     "output_type": "stream",
     "text": [
      "Retrieving notices: ...working... done\n",
      "Channels:\n",
      " - conda-forge\n",
      " - bioconda\n",
      " - defaults\n",
      "Platform: linux-64\n",
      "Collecting package metadata (repodata.json): done\n",
      "Solving environment: done\n",
      "\n",
      "## Package Plan ##\n",
      "\n",
      "  environment location: /root/conda\n",
      "\n",
      "  added / updated specs:\n",
      "    - bedtools\n",
      "    - bioawk\n",
      "    - samtools\n",
      "\n",
      "\n",
      "The following packages will be downloaded:\n",
      "\n",
      "    package                    |            build\n",
      "    ---------------------------|-----------------\n",
      "    bedtools-2.31.1            |       hf5e1c6e_1         1.5 MB  bioconda\n",
      "    bioawk-1.0                 |      he4a0461_10         198 KB  bioconda\n",
      "    htslib-1.20                |       h81da01d_0         2.9 MB  bioconda\n",
      "    libcurl-8.7.1              |       h251f7ec_0         424 KB\n",
      "    libdeflate-1.20            |       hd590300_0          70 KB  conda-forge\n",
      "    libstdcxx-ng-13.2.0        |       hc0a3c3a_7         3.7 MB  conda-forge\n",
      "    ncurses-6.5                |       h59595ed_0         867 KB  conda-forge\n",
      "    samtools-1.20              |       h50ea8bc_0         459 KB  bioconda\n",
      "    ------------------------------------------------------------\n",
      "                                           Total:        10.0 MB\n",
      "\n",
      "The following NEW packages will be INSTALLED:\n",
      "\n",
      "  bedtools           bioconda/linux-64::bedtools-2.31.1-hf5e1c6e_1 \n",
      "  bioawk             bioconda/linux-64::bioawk-1.0-he4a0461_10 \n",
      "  htslib             bioconda/linux-64::htslib-1.20-h81da01d_0 \n",
      "  libdeflate         conda-forge/linux-64::libdeflate-1.20-hd590300_0 \n",
      "  samtools           bioconda/linux-64::samtools-1.20-h50ea8bc_0 \n",
      "\n",
      "The following packages will be UPDATED:\n",
      "\n",
      "  conda              pkgs/main::conda-24.3.0-py312h06a4308~ --> conda-forge::conda-24.4.0-py312h7900ff3_0 \n",
      "  libcurl                                  8.5.0-h251f7ec_0 --> 8.7.1-h251f7ec_0 \n",
      "  libgcc-ng          pkgs/main::libgcc-ng-11.2.0-h1234567_1 --> conda-forge::libgcc-ng-13.2.0-h77fa898_7 \n",
      "  libgomp              pkgs/main::libgomp-11.2.0-h1234567_1 --> conda-forge::libgomp-13.2.0-h77fa898_7 \n",
      "  libstdcxx-ng       pkgs/main::libstdcxx-ng-11.2.0-h12345~ --> conda-forge::libstdcxx-ng-13.2.0-hc0a3c3a_7 \n",
      "  ncurses                 pkgs/main::ncurses-6.4-h6a678d5_0 --> conda-forge::ncurses-6.5-h59595ed_0 \n",
      "  openssl              pkgs/main::openssl-3.0.13-h7f8727e_0 --> conda-forge::openssl-3.3.0-hd590300_0 \n",
      "\n",
      "The following packages will be SUPERSEDED by a higher-priority channel:\n",
      "\n",
      "  _libgcc_mutex           pkgs/main::_libgcc_mutex-0.1-main --> conda-forge::_libgcc_mutex-0.1-conda_forge \n",
      "  _openmp_mutex          pkgs/main::_openmp_mutex-5.1-1_gnu --> conda-forge::_openmp_mutex-4.5-2_gnu \n",
      "  certifi            pkgs/main/linux-64::certifi-2024.2.2-~ --> conda-forge/noarch::certifi-2024.2.2-pyhd8ed1ab_0 \n",
      "\n",
      "\n",
      "\n",
      "Downloading and Extracting Packages:\n",
      "libstdcxx-ng-13.2.0  | 3.7 MB    |                                       |   0% \n",
      "htslib-1.20          | 2.9 MB    |                                       |   0% \u001b[A\n",
      "\n",
      "bedtools-2.31.1      | 1.5 MB    |                                       |   0% \u001b[A\u001b[A\n",
      "\n",
      "\n",
      "ncurses-6.5          | 867 KB    |                                       |   0% \u001b[A\u001b[A\u001b[A\n",
      "\n",
      "\n",
      "\n",
      "samtools-1.20        | 459 KB    |                                       |   0% \u001b[A\u001b[A\u001b[A\u001b[A\n",
      "\n",
      "\n",
      "\n",
      "\n",
      "libcurl-8.7.1        | 424 KB    |                                       |   0% \u001b[A\u001b[A\u001b[A\u001b[A\u001b[A\n",
      "\n",
      "\n",
      "\n",
      "\n",
      "\n",
      "bioawk-1.0           | 198 KB    |                                       |   0% \u001b[A\u001b[A\u001b[A\u001b[A\u001b[A\u001b[A\n",
      "\n",
      "\n",
      "\n",
      "\n",
      "\n",
      "\n",
      "libdeflate-1.20      | 70 KB     |                                       |   0% \u001b[A\u001b[A\u001b[A\u001b[A\u001b[A\u001b[A\u001b[A\n",
      "htslib-1.20          | 2.9 MB    | 1                                     |   1% \u001b[A\n",
      "\n",
      "bedtools-2.31.1      | 1.5 MB    | 3                                     |   1% \u001b[A\u001b[A\n",
      "htslib-1.20          | 2.9 MB    | ###9                                  |  11% \u001b[A\n",
      "\n",
      "libstdcxx-ng-13.2.0  | 3.7 MB    | 1                                     |   0% \u001b[A\u001b[A\n",
      "\n",
      "\n",
      "\n",
      "samtools-1.20        | 459 KB    | #2                                    |   3% \u001b[A\u001b[A\u001b[A\u001b[A\n",
      "htslib-1.20          | 2.9 MB    | ########5                             |  23% \u001b[A\n",
      "\n",
      "bedtools-2.31.1      | 1.5 MB    | ##################1                   |  49% \u001b[A\u001b[A\n",
      "\n",
      "\n",
      "libstdcxx-ng-13.2.0  | 3.7 MB    | 7                                     |   2% \u001b[A\u001b[A\u001b[A\n",
      "htslib-1.20          | 2.9 MB    | ###########9                          |  32% \u001b[A\n",
      "\n",
      "\n",
      "\n",
      "samtools-1.20        | 459 KB    | ##########3                           |  28% \u001b[A\u001b[A\u001b[A\u001b[A\n",
      "\n",
      "\n",
      "ncurses-6.5          | 867 KB    | ##                                    |   6% \u001b[A\u001b[A\u001b[A\n",
      "\n",
      "bedtools-2.31.1      | 1.5 MB    | ########################6             |  67% \u001b[A\u001b[A\n",
      "\n",
      "\n",
      "\n",
      "samtools-1.20        | 459 KB    | ##################                    |  49% \u001b[A\u001b[A\u001b[A\u001b[A\n",
      "htslib-1.20          | 2.9 MB    | ###############5                      |  42% \u001b[A\n",
      "\n",
      "bedtools-2.31.1      | 1.5 MB    | ###############################8      |  86% \u001b[A\u001b[A\n",
      "\n",
      "\n",
      "libstdcxx-ng-13.2.0  | 3.7 MB    | ##3                                   |   6% \u001b[A\u001b[A\u001b[A\n",
      "htslib-1.20          | 2.9 MB    | ######################9               |  62% \u001b[A\n",
      "\n",
      "\n",
      "\n",
      "\n",
      "\n",
      "bioawk-1.0           | 198 KB    | ##9                                   |   8% \u001b[A\u001b[A\u001b[A\u001b[A\u001b[A\u001b[A\n",
      "\n",
      "\n",
      "libstdcxx-ng-13.2.0  | 3.7 MB    | #######7                              |  21% \u001b[A\u001b[A\u001b[A\n",
      "\n",
      "\n",
      "\n",
      "\n",
      "libcurl-8.7.1        | 424 KB    | #3                                    |   4% \u001b[A\u001b[A\u001b[A\u001b[A\u001b[A\n",
      "\n",
      "\n",
      "\n",
      "samtools-1.20        | 459 KB    | ##################################### | 100% \u001b[A\u001b[A\u001b[A\u001b[A\n",
      "\n",
      "\n",
      "\n",
      "samtools-1.20        | 459 KB    | ##################################### | 100% \u001b[A\u001b[A\u001b[A\u001b[A\n",
      "htslib-1.20          | 2.9 MB    | ###########################5          |  75% \u001b[A\n",
      "\n",
      "\n",
      "ncurses-6.5          | 867 KB    | ############2                         |  33% \u001b[A\u001b[A\u001b[A\n",
      "\n",
      "\n",
      "\n",
      "\n",
      "libcurl-8.7.1        | 424 KB    | ######################3               |  60% \u001b[A\u001b[A\u001b[A\u001b[A\u001b[A\n",
      "\n",
      "bedtools-2.31.1      | 1.5 MB    | ##################################### | 100% \u001b[A\u001b[A\n",
      "\n",
      "\n",
      "\n",
      "\n",
      "\n",
      "libstdcxx-ng-13.2.0  | 3.7 MB    | ##########1                           |  27% \u001b[A\u001b[A\u001b[A\u001b[A\u001b[A\u001b[A\n",
      "htslib-1.20          | 2.9 MB    | ###############################7      |  86% \u001b[A\n",
      "\n",
      "\n",
      "\n",
      "\n",
      "libcurl-8.7.1        | 424 KB    | ##################################### | 100% \u001b[A\u001b[A\u001b[A\u001b[A\u001b[A\n",
      "\n",
      "\n",
      "\n",
      "\n",
      "\n",
      "bioawk-1.0           | 198 KB    | ##################################### | 100% \u001b[A\u001b[A\u001b[A\u001b[A\u001b[A\u001b[A\n",
      "\n",
      "\n",
      "libstdcxx-ng-13.2.0  | 3.7 MB    | ############6                         |  34% \u001b[A\u001b[A\u001b[A\n",
      "\n",
      "\n",
      "ncurses-6.5          | 867 KB    | ####################4                 |  55% \u001b[A\u001b[A\u001b[A\n",
      "htslib-1.20          | 2.9 MB    | ###################################9  |  97% \u001b[A\n",
      "\n",
      "\n",
      "\n",
      "\n",
      "\n",
      "\n",
      "libdeflate-1.20      | 70 KB     | ########4                             |  23% \u001b[A\u001b[A\u001b[A\u001b[A\u001b[A\u001b[A\u001b[A\n",
      "\n",
      "\n",
      "\n",
      "\n",
      "\n",
      "\n",
      "libstdcxx-ng-13.2.0  | 3.7 MB    | ###############                       |  41% \u001b[A\u001b[A\u001b[A\u001b[A\u001b[A\u001b[A\u001b[A\n",
      "\n",
      "\n",
      "libstdcxx-ng-13.2.0  | 3.7 MB    | #################                     |  46% \u001b[A\u001b[A\u001b[A\n",
      "htslib-1.20          | 2.9 MB    | ##################################### | 100% \u001b[A\n",
      "\n",
      "\n",
      "libstdcxx-ng-13.2.0  | 3.7 MB    | #########################5            |  69% \u001b[A\u001b[A\u001b[A\n",
      "\n",
      "\n",
      "ncurses-6.5          | 867 KB    | ##################################### | 100% \u001b[A\u001b[A\u001b[A\n",
      "\n",
      "\n",
      "                                                                                \u001b[A\u001b[A\u001b[A\n",
      "                                                                                \u001b[A\n",
      "\n",
      "                                                                                \u001b[A\u001b[A\n",
      "\n",
      "\n",
      "                                                                                \u001b[A\u001b[A\u001b[A\n",
      "\n",
      "\n",
      "\n",
      "                                                                                \u001b[A\u001b[A\u001b[A\u001b[A\n",
      "\n",
      "\n",
      "\n",
      "\n",
      "                                                                                \u001b[A\u001b[A\u001b[A\u001b[A\u001b[A\n",
      "\n",
      "\n",
      "\n",
      "\n",
      "\n",
      "                                                                                \u001b[A\u001b[A\u001b[A\u001b[A\u001b[A\u001b[A\n",
      "\n",
      "\n",
      "\n",
      "\n",
      "\n",
      "\n",
      "                                                                                \u001b[A\u001b[A\u001b[A\u001b[A\u001b[A\u001b[A\u001b[A\n",
      "Preparing transaction: done\n",
      "Verifying transaction: done\n",
      "Executing transaction: done\n"
     ]
    }
   ],
   "source": [
    "!conda install -y bedtools bioawk samtools"
   ]
  },
  {
   "cell_type": "code",
   "execution_count": 2,
   "metadata": {},
   "outputs": [
    {
     "name": "stdout",
     "output_type": "stream",
     "text": [
      "/mnt/c/Users/user/Desktop/과제/binfo1-work\n"
     ]
    },
    {
     "name": "stderr",
     "output_type": "stream",
     "text": [
      "/root/.local/lib/python3.10/site-packages/IPython/core/magics/osm.py:417: UserWarning: This is now an optional IPython functionality, setting dhist requires you to install the `pickleshare` library.\n",
      "  self.shell.db['dhist'] = compress_dhist(dhist)[-100:]\n"
     ]
    }
   ],
   "source": [
    "%cd /mnt/c/Users/user/Desktop/과제/binfo1-work"
   ]
  },
  {
   "cell_type": "code",
   "execution_count": 11,
   "metadata": {},
   "outputs": [
    {
     "name": "stdout",
     "output_type": "stream",
     "text": [
      "chr1\tHAVANA\tstart_codon\t4878137\t4878139\t.\t+\t0\tENSMUST00000134384.8\n",
      "chr1\tHAVANA\tstart_codon\t4878137\t4878139\t.\t+\t0\tENSMUST00000027036.11\n",
      "chr1\tHAVANA\tstart_codon\t4878137\t4878139\t.\t+\t0\tENSMUST00000150971.8\n",
      "chr1\tHAVANA\tstart_codon\t4928137\t4928139\t.\t+\t0\tENSMUST00000081551.14\n",
      "chr1\tHAVANA\tstart_codon\t5154674\t5154676\t.\t+\t0\tENSMUST00000044369.13\n",
      "chr1\tHAVANA\tstart_codon\t5659272\t5659274\t.\t+\t0\tENSMUST00000160777.8\n",
      "chr1\tHAVANA\tstart_codon\t5659272\t5659274\t.\t+\t0\tENSMUST00000027038.11\n",
      "chr1\tHAVANA\tstart_codon\t6300227\t6300229\t.\t+\t0\tENSMUST00000027040.13\n",
      "chr1\tHAVANA\tstart_codon\t6429555\t6429557\t.\t+\t0\tENSMUST00000133144.4\n",
      "chr1\tHAVANA\tstart_codon\t6839122\t6839124\t.\t+\t0\tENSMUST00000140079.8\n"
     ]
    }
   ],
   "source": [
    "!grep '\tstart_codon\t.*\t+\t.*transcript_support_level \"1\"' ../binfo1-datapack1/gencode.gtf | \\\n",
    " sed -e 's/\t[^\t]*transcript_id \"\\([^\"]*\\)\".*$/\t\\1/g' > gencode-start.gtf\n",
    "!head gencode-start.gtf"
   ]
  },
  {
   "cell_type": "code",
   "execution_count": 12,
   "metadata": {},
   "outputs": [
    {
     "name": "stdout",
     "output_type": "stream",
     "text": [
      "chr1\tHAVANA\texon\t3143476\t3144545\t.\t+\t.\tENSMUST00000193812.2\n",
      "chr1\tENSEMBL\texon\t3172239\t3172348\t.\t+\t.\tENSMUST00000082908.3\n",
      "chr1\tHAVANA\texon\t3322980\t3323459\t.\t+\t.\tENSMUST00000192857.2\n",
      "chr1\tHAVANA\texon\t3536810\t3536910\t.\t+\t.\tENSMUST00000161581.2\n",
      "chr1\tHAVANA\texon\t3583628\t3583776\t.\t+\t.\tENSMUST00000161581.2\n",
      "chr1\tHAVANA\texon\t3602018\t3602943\t.\t+\t.\tENSMUST00000192183.2\n",
      "chr1\tHAVANA\texon\t3750378\t3752011\t.\t+\t.\tENSMUST00000193244.2\n",
      "chr1\tHAVANA\texon\t3822233\t3824583\t.\t+\t.\tENSMUST00000194454.2\n",
      "chr1\tHAVANA\texon\t4566774\t4569601\t.\t+\t.\tENSMUST00000193450.2\n",
      "chr1\tHAVANA\texon\t4567697\t4567877\t.\t+\t.\tENSMUST00000194935.2\n"
     ]
    }
   ],
   "source": [
    "!grep '\texon\t.*\t+\t' ../binfo1-datapack1/gencode.gtf | \\\n",
    " sed -e 's/\t[^\t]*transcript_id \"\\([^\"]*\\)\".*$/\t\\1/g' > gencode-plusexon.gtf\n",
    "!head gencode-plusexon.gtf"
   ]
  },
  {
   "cell_type": "code",
   "execution_count": 13,
   "metadata": {},
   "outputs": [
    {
     "name": "stdout",
     "output_type": "stream",
     "text": [
      "chr1\t4878010\t4878205\tENSMUST00000134384.8\t4878136\t+\n",
      "chr1\t4878045\t4878205\tENSMUST00000027036.11\t4878136\t+\n",
      "chr1\t4878052\t4878205\tENSMUST00000150971.8\t4878136\t+\n",
      "chr1\t4928036\t4928199\tENSMUST00000081551.14\t4928136\t+\n",
      "chr1\t5154639\t5154786\tENSMUST00000044369.13\t5154673\t+\n",
      "chr1\t5659227\t5659528\tENSMUST00000027038.11\t5659271\t+\n",
      "chr1\t5659257\t5659528\tENSMUST00000160777.8\t5659271\t+\n",
      "chr1\t6300182\t6300297\tENSMUST00000027040.13\t6300226\t+\n",
      "chr1\t6429441\t6429738\tENSMUST00000133144.4\t6429554\t+\n",
      "chr1\t6839121\t6839176\tENSMUST00000043578.13\t6839121\t+\n",
      "chrY\t80939672\t80939804\tENSMUST00000185340.2\t80939686\t+\n",
      "chrY\t81470683\t81470815\tENSMUST00000187135.2\t81470697\t+\n",
      "chrY\t82237903\t82238035\tENSMUST00000185636.2\t82237917\t+\n",
      "chrY\t83043623\t83043755\tENSMUST00000187165.2\t83043637\t+\n",
      "chrY\t84109956\t84110088\tENSMUST00000185776.7\t84109970\t+\n",
      "chrY\t84759361\t84759493\tENSMUST00000186110.2\t84759375\t+\n",
      "chrY\t86074448\t86074580\tENSMUST00000188754.2\t86074462\t+\n",
      "chrY\t87129500\t87129632\tENSMUST00000189543.7\t87129514\t+\n",
      "chrY\t87563647\t87563779\tENSMUST00000186493.2\t87563661\t+\n",
      "chrY\t88065992\t88066124\tENSMUST00000187146.2\t88066006\t+\n"
     ]
    }
   ],
   "source": [
    "!bedtools intersect -a gencode-start.gtf -b gencode-plusexon.gtf -wa -wb | \\\n",
    " awk -F'\t' -v OFS='\t' '$9 == $18 { print $10, $13-1, $14, $18, $4-1, $16; }' | \\\n",
    " sort -k1,1 -k2,3n -k4,4 > gencode-exons-containing-startcodon.bed\n",
    "!head gencode-exons-containing-startcodon.bed; tail gencode-exons-containing-startcodon.bed"
   ]
  },
  {
   "cell_type": "code",
   "execution_count": 14,
   "metadata": {},
   "outputs": [],
   "source": [
    "!(samtools view -H ../binfo1-datapack1/RPF-siLuc.bam; \\\n",
    "  samtools view -F20 ../binfo1-datapack1/RPF-siLuc.bam | \\\n",
    "  bioawk -c sam '{ if (length($seq) >= 25) print $0; }') | \\\n",
    " samtools view -b -o filtered-RPF-siLuc.bam"
   ]
  },
  {
   "cell_type": "code",
   "execution_count": 15,
   "metadata": {},
   "outputs": [
    {
     "name": "stdout",
     "output_type": "stream",
     "text": [
      "-rwxrwxrwx 1 root root 1055123479 May  6  2021 RPF-siLuc.bam\n",
      "-rwxrwxrwx 1 root root  554373659 May 10  2024 filtered-RPF-siLuc.bam\n"
     ]
    }
   ],
   "source": [
    "!ls -al *RPF-siLuc.bam"
   ]
  },
  {
   "cell_type": "code",
   "execution_count": 16,
   "metadata": {},
   "outputs": [
    {
     "name": "stdout",
     "output_type": "stream",
     "text": [
      "chr1\t3176534\t3176535\t1\n",
      "chr1\t3196256\t3196257\t1\n",
      "chr1\t3221526\t3221527\t1\n",
      "chr1\t3221542\t3221543\t2\n",
      "chr1\t3221545\t3221546\t3\n",
      "chr1\t3221546\t3221547\t2\n",
      "chr1\t3221548\t3221550\t1\n",
      "chr1\t3221571\t3221572\t1\n",
      "chr1\t3221897\t3221898\t1\n",
      "chr1\t3221994\t3221995\t1\n"
     ]
    }
   ],
   "source": [
    "!bedtools genomecov -ibam filtered-RPF-siLuc.bam -bg -5 > fivepcounts-RPF-siLuc.bed\n",
    "!head fivepcounts-RPF-siLuc.bed"
   ]
  },
  {
   "cell_type": "code",
   "execution_count": 17,
   "metadata": {},
   "outputs": [
    {
     "name": "stdout",
     "output_type": "stream",
     "text": [
      "chr1\t4878048\t4878049\t1\tchr1\t4878010\t4878205\tENSMUST00000134384.8\t4878136\t+\n",
      "chr1\t4878048\t4878049\t1\tchr1\t4878045\t4878205\tENSMUST00000027036.11\t4878136\t+\n",
      "chr1\t4878077\t4878078\t1\tchr1\t4878010\t4878205\tENSMUST00000134384.8\t4878136\t+\n",
      "chr1\t4878077\t4878078\t1\tchr1\t4878045\t4878205\tENSMUST00000027036.11\t4878136\t+\n",
      "chr1\t4878077\t4878078\t1\tchr1\t4878052\t4878205\tENSMUST00000150971.8\t4878136\t+\n",
      "chr1\t4878101\t4878102\t4\tchr1\t4878010\t4878205\tENSMUST00000134384.8\t4878136\t+\n",
      "chr1\t4878101\t4878102\t4\tchr1\t4878045\t4878205\tENSMUST00000027036.11\t4878136\t+\n",
      "chr1\t4878101\t4878102\t4\tchr1\t4878052\t4878205\tENSMUST00000150971.8\t4878136\t+\n",
      "chr1\t4878103\t4878104\t1\tchr1\t4878010\t4878205\tENSMUST00000134384.8\t4878136\t+\n",
      "chr1\t4878103\t4878104\t1\tchr1\t4878045\t4878205\tENSMUST00000027036.11\t4878136\t+\n"
     ]
    }
   ],
   "source": [
    "!bedtools intersect -a fivepcounts-RPF-siLuc.bed -b gencode-exons-containing-startcodon.bed \\\n",
    " -wa -wb -nonamecheck > fivepcounts-filtered-RPF-siLuc.txt\n",
    "!head fivepcounts-filtered-RPF-siLuc.txt"
   ]
  },
  {
   "cell_type": "code",
   "execution_count": null,
   "metadata": {},
   "outputs": [],
   "source": []
  }
 ],
 "metadata": {
  "kernelspec": {
   "display_name": "Python 3",
   "language": "python",
   "name": "python3"
  },
  "language_info": {
   "codemirror_mode": {
    "name": "ipython",
    "version": 3
   },
   "file_extension": ".py",
   "mimetype": "text/x-python",
   "name": "python",
   "nbconvert_exporter": "python",
   "pygments_lexer": "ipython3",
   "version": "3.10.12"
  }
 },
 "nbformat": 4,
 "nbformat_minor": 2
}
