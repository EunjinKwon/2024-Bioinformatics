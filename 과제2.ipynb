{
 "cells": [
  {
   "cell_type": "code",
   "execution_count": 11,
   "metadata": {},
   "outputs": [
    {
     "name": "stdout",
     "output_type": "stream",
     "text": [
      "Channels:\n",
      " - conda-forge\n",
      " - bioconda\n",
      " - defaults\n",
      "Platform: linux-64\n",
      "Collecting package metadata (repodata.json): done\n",
      "Solving environment: done\n",
      "\n",
      "# All requested packages already installed.\n",
      "\n"
     ]
    }
   ],
   "source": [
    "!conda install -y bedtools bioawk samtools"
   ]
  },
  {
   "cell_type": "code",
   "execution_count": 12,
   "metadata": {},
   "outputs": [
    {
     "name": "stdout",
     "output_type": "stream",
     "text": [
      "/mnt/c/Users/user/Desktop/과제/binfo1-work\n"
     ]
    },
    {
     "name": "stderr",
     "output_type": "stream",
     "text": [
      "/root/.local/lib/python3.10/site-packages/IPython/core/magics/osm.py:417: UserWarning: This is now an optional IPython functionality, setting dhist requires you to install the `pickleshare` library.\n",
      "  self.shell.db['dhist'] = compress_dhist(dhist)[-100:]\n"
     ]
    }
   ],
   "source": [
    "%cd /mnt/c/Users/user/Desktop/과제/binfo1-work"
   ]
  },
  {
   "cell_type": "code",
   "execution_count": 13,
   "metadata": {},
   "outputs": [
    {
     "name": "stdout",
     "output_type": "stream",
     "text": [
      "chr1\tHAVANA\tstart_codon\t4878137\t4878139\t.\t+\t0\tENSMUST00000134384.8\n",
      "chr1\tHAVANA\tstart_codon\t4878137\t4878139\t.\t+\t0\tENSMUST00000027036.11\n",
      "chr1\tHAVANA\tstart_codon\t4878137\t4878139\t.\t+\t0\tENSMUST00000150971.8\n",
      "chr1\tHAVANA\tstart_codon\t4928137\t4928139\t.\t+\t0\tENSMUST00000081551.14\n",
      "chr1\tHAVANA\tstart_codon\t5154674\t5154676\t.\t+\t0\tENSMUST00000044369.13\n",
      "chr1\tHAVANA\tstart_codon\t5659272\t5659274\t.\t+\t0\tENSMUST00000160777.8\n",
      "chr1\tHAVANA\tstart_codon\t5659272\t5659274\t.\t+\t0\tENSMUST00000027038.11\n",
      "chr1\tHAVANA\tstart_codon\t6300227\t6300229\t.\t+\t0\tENSMUST00000027040.13\n",
      "chr1\tHAVANA\tstart_codon\t6429555\t6429557\t.\t+\t0\tENSMUST00000133144.4\n",
      "chr1\tHAVANA\tstart_codon\t6839122\t6839124\t.\t+\t0\tENSMUST00000140079.8\n"
     ]
    }
   ],
   "source": [
    "!grep '\tstart_codon\t.*\t+\t.*transcript_support_level \"1\"' ../binfo1-datapack1/gencode.gtf | \\\n",
    " sed -e 's/\t[^\t]*transcript_id \"\\([^\"]*\\)\".*$/\t\\1/g' > gencode-start.gtf\n",
    "!head gencode-start.gtf"
   ]
  },
  {
   "cell_type": "code",
   "execution_count": 14,
   "metadata": {},
   "outputs": [
    {
     "name": "stdout",
     "output_type": "stream",
     "text": [
      "chr1\tHAVANA\texon\t3143476\t3144545\t.\t+\t.\tENSMUST00000193812.2\n",
      "chr1\tENSEMBL\texon\t3172239\t3172348\t.\t+\t.\tENSMUST00000082908.3\n",
      "chr1\tHAVANA\texon\t3322980\t3323459\t.\t+\t.\tENSMUST00000192857.2\n",
      "chr1\tHAVANA\texon\t3536810\t3536910\t.\t+\t.\tENSMUST00000161581.2\n",
      "chr1\tHAVANA\texon\t3583628\t3583776\t.\t+\t.\tENSMUST00000161581.2\n",
      "chr1\tHAVANA\texon\t3602018\t3602943\t.\t+\t.\tENSMUST00000192183.2\n",
      "chr1\tHAVANA\texon\t3750378\t3752011\t.\t+\t.\tENSMUST00000193244.2\n",
      "chr1\tHAVANA\texon\t3822233\t3824583\t.\t+\t.\tENSMUST00000194454.2\n",
      "chr1\tHAVANA\texon\t4566774\t4569601\t.\t+\t.\tENSMUST00000193450.2\n",
      "chr1\tHAVANA\texon\t4567697\t4567877\t.\t+\t.\tENSMUST00000194935.2\n"
     ]
    }
   ],
   "source": [
    "!grep '\texon\t.*\t+\t' ../binfo1-datapack1/gencode.gtf | \\\n",
    " sed -e 's/\t[^\t]*transcript_id \"\\([^\"]*\\)\".*$/\t\\1/g' > gencode-plusexon.gtf\n",
    "!head gencode-plusexon.gtf"
   ]
  },
  {
   "cell_type": "code",
   "execution_count": 15,
   "metadata": {},
   "outputs": [
    {
     "name": "stdout",
     "output_type": "stream",
     "text": [
      "chr1\t4878010\t4878205\tENSMUST00000134384.8\t4878136\t+\n",
      "chr1\t4878045\t4878205\tENSMUST00000027036.11\t4878136\t+\n",
      "chr1\t4878052\t4878205\tENSMUST00000150971.8\t4878136\t+\n",
      "chr1\t4928036\t4928199\tENSMUST00000081551.14\t4928136\t+\n",
      "chr1\t5154639\t5154786\tENSMUST00000044369.13\t5154673\t+\n",
      "chr1\t5659227\t5659528\tENSMUST00000027038.11\t5659271\t+\n",
      "chr1\t5659257\t5659528\tENSMUST00000160777.8\t5659271\t+\n",
      "chr1\t6300182\t6300297\tENSMUST00000027040.13\t6300226\t+\n",
      "chr1\t6429441\t6429738\tENSMUST00000133144.4\t6429554\t+\n",
      "chr1\t6839121\t6839176\tENSMUST00000043578.13\t6839121\t+\n",
      "chrY\t80939672\t80939804\tENSMUST00000185340.2\t80939686\t+\n",
      "chrY\t81470683\t81470815\tENSMUST00000187135.2\t81470697\t+\n",
      "chrY\t82237903\t82238035\tENSMUST00000185636.2\t82237917\t+\n",
      "chrY\t83043623\t83043755\tENSMUST00000187165.2\t83043637\t+\n",
      "chrY\t84109956\t84110088\tENSMUST00000185776.7\t84109970\t+\n",
      "chrY\t84759361\t84759493\tENSMUST00000186110.2\t84759375\t+\n",
      "chrY\t86074448\t86074580\tENSMUST00000188754.2\t86074462\t+\n",
      "chrY\t87129500\t87129632\tENSMUST00000189543.7\t87129514\t+\n",
      "chrY\t87563647\t87563779\tENSMUST00000186493.2\t87563661\t+\n",
      "chrY\t88065992\t88066124\tENSMUST00000187146.2\t88066006\t+\n"
     ]
    }
   ],
   "source": [
    "!bedtools intersect -a gencode-start.gtf -b gencode-plusexon.gtf -wa -wb | \\\n",
    " awk -F'\t' -v OFS='\t' '$9 == $18 { print $10, $13-1, $14, $18, $4-1, $16; }' | \\\n",
    " sort -k1,1 -k2,3n -k4,4 > gencode-exons-containing-startcodon.bed\n",
    "!head gencode-exons-containing-startcodon.bed; tail gencode-exons-containing-startcodon.bed"
   ]
  },
  {
   "cell_type": "code",
   "execution_count": 16,
   "metadata": {},
   "outputs": [],
   "source": [
    "!(samtools view -H ../binfo1-datapack1/RPF-siLuc.bam; \\\n",
    "  samtools view -F20 ../binfo1-datapack1/RPF-siLuc.bam | \\\n",
    "  bioawk -c sam '{ if (length($seq) >= 25) print $0; }') | \\\n",
    " samtools view -b -o filtered-RPF-siLuc.bam"
   ]
  },
  {
   "cell_type": "code",
   "execution_count": 17,
   "metadata": {},
   "outputs": [
    {
     "name": "stdout",
     "output_type": "stream",
     "text": [
      "-rwxrwxrwx 1 root root 1055123479 May  6  2021 RPF-siLuc.bam\n",
      "-rwxrwxrwx 1 root root  554373659 May 11 17:04 filtered-RPF-siLuc.bam\n"
     ]
    }
   ],
   "source": [
    "!ls -al *RPF-siLuc.bam"
   ]
  },
  {
   "cell_type": "code",
   "execution_count": 18,
   "metadata": {},
   "outputs": [
    {
     "name": "stdout",
     "output_type": "stream",
     "text": [
      "chr1\t3176534\t3176535\t1\n",
      "chr1\t3196256\t3196257\t1\n",
      "chr1\t3221526\t3221527\t1\n",
      "chr1\t3221542\t3221543\t2\n",
      "chr1\t3221545\t3221546\t3\n",
      "chr1\t3221546\t3221547\t2\n",
      "chr1\t3221548\t3221550\t1\n",
      "chr1\t3221571\t3221572\t1\n",
      "chr1\t3221897\t3221898\t1\n",
      "chr1\t3221994\t3221995\t1\n"
     ]
    }
   ],
   "source": [
    "!bedtools genomecov -ibam filtered-RPF-siLuc.bam -bg -5 > fivepcounts-RPF-siLuc.bed\n",
    "!head fivepcounts-RPF-siLuc.bed"
   ]
  },
  {
   "cell_type": "code",
   "execution_count": 19,
   "metadata": {},
   "outputs": [
    {
     "name": "stdout",
     "output_type": "stream",
     "text": [
      "chr1\t4878048\t4878049\t1\tchr1\t4878010\t4878205\tENSMUST00000134384.8\t4878136\t+\n",
      "chr1\t4878048\t4878049\t1\tchr1\t4878045\t4878205\tENSMUST00000027036.11\t4878136\t+\n",
      "chr1\t4878077\t4878078\t1\tchr1\t4878010\t4878205\tENSMUST00000134384.8\t4878136\t+\n",
      "chr1\t4878077\t4878078\t1\tchr1\t4878045\t4878205\tENSMUST00000027036.11\t4878136\t+\n",
      "chr1\t4878077\t4878078\t1\tchr1\t4878052\t4878205\tENSMUST00000150971.8\t4878136\t+\n",
      "chr1\t4878101\t4878102\t4\tchr1\t4878010\t4878205\tENSMUST00000134384.8\t4878136\t+\n",
      "chr1\t4878101\t4878102\t4\tchr1\t4878045\t4878205\tENSMUST00000027036.11\t4878136\t+\n",
      "chr1\t4878101\t4878102\t4\tchr1\t4878052\t4878205\tENSMUST00000150971.8\t4878136\t+\n",
      "chr1\t4878103\t4878104\t1\tchr1\t4878010\t4878205\tENSMUST00000134384.8\t4878136\t+\n",
      "chr1\t4878103\t4878104\t1\tchr1\t4878045\t4878205\tENSMUST00000027036.11\t4878136\t+\n"
     ]
    }
   ],
   "source": [
    "!bedtools intersect -a fivepcounts-RPF-siLuc.bed -b gencode-exons-containing-startcodon.bed \\\n",
    " -wa -wb -nonamecheck > fivepcounts-filtered-RPF-siLuc.txt\n",
    "!head fivepcounts-filtered-RPF-siLuc.txt"
   ]
  },
  {
   "cell_type": "code",
   "execution_count": 2,
   "metadata": {},
   "outputs": [
    {
     "data": {
      "text/html": [
       "<div>\n",
       "<style scoped>\n",
       "    .dataframe tbody tr th:only-of-type {\n",
       "        vertical-align: middle;\n",
       "    }\n",
       "\n",
       "    .dataframe tbody tr th {\n",
       "        vertical-align: top;\n",
       "    }\n",
       "\n",
       "    .dataframe thead th {\n",
       "        text-align: right;\n",
       "    }\n",
       "</style>\n",
       "<table border=\"1\" class=\"dataframe\">\n",
       "  <thead>\n",
       "    <tr style=\"text-align: right;\">\n",
       "      <th></th>\n",
       "      <th>Chr</th>\n",
       "      <th>5'start</th>\n",
       "      <th>5'end</th>\n",
       "      <th>readcount</th>\n",
       "      <th>Chr.1</th>\n",
       "      <th>exon start</th>\n",
       "      <th>exon end</th>\n",
       "      <th>Transid</th>\n",
       "      <th>startcodon</th>\n",
       "      <th>strand</th>\n",
       "    </tr>\n",
       "  </thead>\n",
       "  <tbody>\n",
       "    <tr>\n",
       "      <th>0</th>\n",
       "      <td>chr1</td>\n",
       "      <td>4878048</td>\n",
       "      <td>4878049</td>\n",
       "      <td>1</td>\n",
       "      <td>chr1</td>\n",
       "      <td>4878010</td>\n",
       "      <td>4878205</td>\n",
       "      <td>ENSMUST00000134384.8</td>\n",
       "      <td>4878136</td>\n",
       "      <td>+</td>\n",
       "    </tr>\n",
       "    <tr>\n",
       "      <th>1</th>\n",
       "      <td>chr1</td>\n",
       "      <td>4878048</td>\n",
       "      <td>4878049</td>\n",
       "      <td>1</td>\n",
       "      <td>chr1</td>\n",
       "      <td>4878045</td>\n",
       "      <td>4878205</td>\n",
       "      <td>ENSMUST00000027036.11</td>\n",
       "      <td>4878136</td>\n",
       "      <td>+</td>\n",
       "    </tr>\n",
       "    <tr>\n",
       "      <th>2</th>\n",
       "      <td>chr1</td>\n",
       "      <td>4878077</td>\n",
       "      <td>4878078</td>\n",
       "      <td>1</td>\n",
       "      <td>chr1</td>\n",
       "      <td>4878010</td>\n",
       "      <td>4878205</td>\n",
       "      <td>ENSMUST00000134384.8</td>\n",
       "      <td>4878136</td>\n",
       "      <td>+</td>\n",
       "    </tr>\n",
       "    <tr>\n",
       "      <th>3</th>\n",
       "      <td>chr1</td>\n",
       "      <td>4878077</td>\n",
       "      <td>4878078</td>\n",
       "      <td>1</td>\n",
       "      <td>chr1</td>\n",
       "      <td>4878045</td>\n",
       "      <td>4878205</td>\n",
       "      <td>ENSMUST00000027036.11</td>\n",
       "      <td>4878136</td>\n",
       "      <td>+</td>\n",
       "    </tr>\n",
       "    <tr>\n",
       "      <th>4</th>\n",
       "      <td>chr1</td>\n",
       "      <td>4878077</td>\n",
       "      <td>4878078</td>\n",
       "      <td>1</td>\n",
       "      <td>chr1</td>\n",
       "      <td>4878052</td>\n",
       "      <td>4878205</td>\n",
       "      <td>ENSMUST00000150971.8</td>\n",
       "      <td>4878136</td>\n",
       "      <td>+</td>\n",
       "    </tr>\n",
       "  </tbody>\n",
       "</table>\n",
       "</div>"
      ],
      "text/plain": [
       "    Chr  5'start    5'end  readcount Chr.1  exon start  exon end  \\\n",
       "0  chr1  4878048  4878049          1  chr1     4878010   4878205   \n",
       "1  chr1  4878048  4878049          1  chr1     4878045   4878205   \n",
       "2  chr1  4878077  4878078          1  chr1     4878010   4878205   \n",
       "3  chr1  4878077  4878078          1  chr1     4878045   4878205   \n",
       "4  chr1  4878077  4878078          1  chr1     4878052   4878205   \n",
       "\n",
       "                 Transid  startcodon strand  \n",
       "0   ENSMUST00000134384.8     4878136      +  \n",
       "1  ENSMUST00000027036.11     4878136      +  \n",
       "2   ENSMUST00000134384.8     4878136      +  \n",
       "3  ENSMUST00000027036.11     4878136      +  \n",
       "4   ENSMUST00000150971.8     4878136      +  "
      ]
     },
     "execution_count": 2,
     "metadata": {},
     "output_type": "execute_result"
    }
   ],
   "source": [
    "import pandas as pd\n",
    "cnts = pd.read_csv('/mnt/c/Users/user/Desktop/과제/binfo1-work/fivepcounts-filtered-RPF-siLuc.txt', sep='\\t')\n",
    "cnts.head()"
   ]
  },
  {
   "cell_type": "code",
   "execution_count": 3,
   "metadata": {},
   "outputs": [],
   "source": [
    "cnts['Relative position'] = cnts['5\\'start'] - cnts['startcodon']"
   ]
  },
  {
   "cell_type": "code",
   "execution_count": 4,
   "metadata": {},
   "outputs": [],
   "source": [
    "position = cnts.groupby('Relative position')['readcount'].sum().reset_index()\n",
    "#position.head()\n",
    "#position.to_csv('filename.txt', sep='\\t', index=False)"
   ]
  },
  {
   "cell_type": "code",
   "execution_count": 5,
   "metadata": {},
   "outputs": [
    {
     "data": {
      "text/plain": [
       "Text(0.5, 1.1, 'Ribosome footprint density near start and stop codons')"
      ]
     },
     "execution_count": 5,
     "metadata": {},
     "output_type": "execute_result"
    },
    {
     "data": {
      "image/png": "[encoded data removed]",
      "text/plain": [
       "<Figure size 640x480 with 1 Axes>"
      ]
     },
     "metadata": {},
     "output_type": "display_data"
    }
   ],
   "source": [
    "from matplotlib import pyplot as plt\n",
    "plt.bar(position['Relative position'], position['readcount'] / 1000, width=0.8)\n",
    "plt.xlim(-50, 50)\n",
    "plt.xlabel('Relative position to start codon of 5\\'-end of reads')\n",
    "plt.ylabel('Raw read count\\n (×1000)')\n",
    "plt.axvline(x=0, color='red')\n",
    "plt.text(0.5, 1.02, 'start codon', transform=plt.gca().transAxes, ha='center', color='black')\n",
    "plt.text(0.5, 1.1, 'Ribosome footprint density near start and stop codons', transform=plt.gca().transAxes, ha='center', color='black', fontsize=16)"
   ]
  },
  {
   "cell_type": "code",
   "execution_count": null,
   "metadata": {},
   "outputs": [],
   "source": []
  }
 ],
 "metadata": {
  "kernelspec": {
   "display_name": "Python 3",
   "language": "python",
   "name": "python3"
  },
  "language_info": {
   "codemirror_mode": {
    "name": "ipython",
    "version": 3
   },
   "file_extension": ".py",
   "mimetype": "text/x-python",
   "name": "python",
   "nbconvert_exporter": "python",
   "pygments_lexer": "ipython3",
   "version": "3.10.12"
  }
 },
 "nbformat": 4,
 "nbformat_minor": 2
}
